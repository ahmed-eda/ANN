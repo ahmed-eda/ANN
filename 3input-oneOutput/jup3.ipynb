{
 "cells": [
  {
   "attachments": {},
   "cell_type": "markdown",
   "metadata": {},
   "source": [
    "# ANN for make simulation and make prediction in physics"
   ]
  },
  {
   "attachments": {},
   "cell_type": "markdown",
   "metadata": {
    "notebookRunGroups": {
     "groupValue": "12"
    }
   },
   "source": [
    "# import working liberary"
   ]
  },
  {
   "cell_type": "code",
   "execution_count": 1,
   "metadata": {},
   "outputs": [],
   "source": [
    "import pandas as pd\n",
    "import matplotlib.pyplot as plt\n",
    "from keras.models import Sequential\n",
    "from keras.layers import Dense, BatchNormalization\n",
    "from keras.optimizers import RMSprop\n",
    "from keras.models import load_model\n",
    "import numpy as np\n"
   ]
  },
  {
   "attachments": {},
   "cell_type": "markdown",
   "metadata": {},
   "source": [
    "# test GPU"
   ]
  },
  {
   "attachments": {},
   "cell_type": "markdown",
   "metadata": {},
   "source": [
    "# global variables"
   ]
  },
  {
   "cell_type": "code",
   "execution_count": 2,
   "metadata": {},
   "outputs": [],
   "source": [
    "# input variable to program\n",
    "#inputFile = 'datasets/collect data_pi-modified.xlsx'\n",
    "inputFile = 'collect data_pi-modified.xlsx'\n",
    "inputSheetName = 'main'\n",
    "outputFile = 'out_in3.xlsx'\n",
    "outputSheetName = 'predicat_in3'\n",
    "nameFigImg = 'fig_in3.png'\n"
   ]
  },
  {
   "attachments": {},
   "cell_type": "markdown",
   "metadata": {},
   "source": [
    "# read data"
   ]
  },
  {
   "cell_type": "code",
   "execution_count": 3,
   "metadata": {},
   "outputs": [
    {
     "name": "stdout",
     "output_type": "stream",
     "text": [
      "<bound method NDFrame.head of          s  N part     Pt  Spectrum     err1     err2\n",
      "0      7.7     337  0.275  114.8980  0.21538  7.89015\n",
      "1      7.7     337  0.325   83.9507  0.17051  5.61535\n",
      "2      7.7     337  0.375   62.4481  0.13799  4.10800\n",
      "3      7.7     337  0.425   46.3708  0.11247  3.01883\n",
      "4      7.7     337  0.475   34.7823  0.09267  2.24990\n",
      "...    ...     ...    ...       ...      ...      ...\n",
      "1147  39.0      14  1.550    0.0139  0.00013  0.00139\n",
      "1148  39.0      14  1.650    0.0092  0.00010  0.00092\n",
      "1149  39.0      14  1.750    0.0062  0.00008  0.00062\n",
      "1150  39.0      14  1.850    0.0043  0.00006  0.00043\n",
      "1151  39.0      14  1.950    0.0029  0.00005  0.00029\n",
      "\n",
      "[1152 rows x 6 columns]>\n"
     ]
    }
   ],
   "source": [
    "\"\"\" from openpyxl import Workbook\n",
    "import openpyxl \"\"\"\n",
    "# Read the data from the excel file\n",
    "data = pd.read_excel(inputFile,sheet_name=inputSheetName)\n",
    "#data = data[data['N part']==337]\n",
    "# Split the data into input and output variables\n",
    "#X = data.drop('sqrt', axis=1) #static input for each case : extra dat2 of fiting\n",
    "err1=data['err1'].to_frame('err1')\n",
    "err2=data['err2'].to_frame('err2')\n",
    "X = data.drop('Spectrum', axis=1)\n",
    "X = X.drop('err1', axis=1)\n",
    "X = X.drop('err2', axis=1)\n",
    "#X = data['Pt']\n",
    "y = data['Spectrum'].to_frame('Spectrum')\n",
    "#y = pd.Series(y)\n",
    "#y = y.to_frame('Spectrum')\n",
    "print(data.head)"
   ]
  },
  {
   "attachments": {},
   "cell_type": "markdown",
   "metadata": {},
   "source": [
    "# normaliz input"
   ]
  },
  {
   "cell_type": "code",
   "execution_count": 4,
   "metadata": {},
   "outputs": [
    {
     "name": "stdout",
     "output_type": "stream",
     "text": [
      "X_normalized\n",
      "[[-0.76774194  1.22702703 -0.54545455]\n",
      " [-0.76774194  1.22702703 -0.48484848]\n",
      " [-0.76774194  1.22702703 -0.42424242]\n",
      " ...\n",
      " [ 1.2516129  -0.51891892  1.24242424]\n",
      " [ 1.2516129  -0.51891892  1.36363636]\n",
      " [ 1.2516129  -0.51891892  1.48484848]]\n",
      "X_train\n",
      "[[-0.76774194  1.22702703 -0.54545455]\n",
      " [-0.76774194  1.22702703 -0.48484848]\n",
      " [-0.76774194  1.22702703 -0.42424242]\n",
      " ...\n",
      " [ 1.2516129  -0.51891892  1.24242424]\n",
      " [ 1.2516129  -0.51891892  1.36363636]\n",
      " [ 1.2516129  -0.51891892  1.48484848]]\n"
     ]
    }
   ],
   "source": [
    "# Normalize the input\n",
    "from sklearn.preprocessing import RobustScaler\n",
    "# Create a RobustScaler object\n",
    "scaler = RobustScaler()\n",
    "# Fit the scaler to the input data and transform it\n",
    "X_normalized = scaler.fit_transform(X)\n",
    "# Print the normalized input data\n",
    "print('X_normalized')\n",
    "print(X_normalized)\n",
    "X_train = X_normalized\n",
    "print('X_train')\n",
    "print(X_train) \n"
   ]
  },
  {
   "attachments": {},
   "cell_type": "markdown",
   "metadata": {},
   "source": [
    "# loada saved model"
   ]
  },
  {
   "cell_type": "code",
   "execution_count": 5,
   "metadata": {},
   "outputs": [],
   "source": [
    "\n",
    "# Load the saved model\n",
    "model = load_model('NegPion_3_test-17-5-2023-10-6L-out-noactivation-another-tofit-graph-100epoch.h5')"
   ]
  },
  {
   "attachments": {},
   "cell_type": "markdown",
   "metadata": {},
   "source": [
    "# define the model"
   ]
  },
  {
   "cell_type": "code",
   "execution_count": 6,
   "metadata": {},
   "outputs": [
    {
     "data": {
      "text/plain": [
       "\" \\n# Define the model\\nmodel = Sequential()\\n# Add the first dense layer\\nmodel.add(Dense(30, input_dim=3, activation='relu'))\\n# Add batch normalization\\n#model.add(BatchNormalization())\\nmodel.add(Dense(30, activation='relu'))\\n#model.add(BatchNormalization())\\n#model.add(Dense(60, activation='relu'))\\n#model.add(Dense(120, activation='relu'))\\n#model.add(Dense(120, activation='relu'))\\n#model.add(Dense(60, activation='relu'))\\nmodel.add(Dense(30, activation='relu'))\\nmodel.add(Dense(30, activation='relu'))\\n# Add batch normalization\\n#model.add(BatchNormalization())\\n# Add the output layer\\nmodel.add(Dense(1))\\n# Add the output layer\\n#model.add(Dense(1, activation='softmax')) \""
      ]
     },
     "execution_count": 6,
     "metadata": {},
     "output_type": "execute_result"
    }
   ],
   "source": [
    "\"\"\" \n",
    "# Define the model\n",
    "model = Sequential()\n",
    "# Add the first dense layer\n",
    "model.add(Dense(30, input_dim=3, activation='relu'))\n",
    "# Add batch normalization\n",
    "#model.add(BatchNormalization())\n",
    "model.add(Dense(30, activation='relu'))\n",
    "#model.add(BatchNormalization())\n",
    "#model.add(Dense(60, activation='relu'))\n",
    "#model.add(Dense(120, activation='relu'))\n",
    "#model.add(Dense(120, activation='relu'))\n",
    "#model.add(Dense(60, activation='relu'))\n",
    "model.add(Dense(30, activation='relu'))\n",
    "model.add(Dense(30, activation='relu'))\n",
    "# Add batch normalization\n",
    "#model.add(BatchNormalization())\n",
    "# Add the output layer\n",
    "model.add(Dense(1))\n",
    "# Add the output layer\n",
    "#model.add(Dense(1, activation='softmax')) \"\"\"\n"
   ]
  },
  {
   "attachments": {},
   "cell_type": "markdown",
   "metadata": {},
   "source": [
    "# compile the model"
   ]
  },
  {
   "cell_type": "code",
   "execution_count": 7,
   "metadata": {},
   "outputs": [
    {
     "data": {
      "text/plain": [
       "\" optimizer = RMSprop(learning_rate=0.001, rho=0.001,)\\nmodel.compile(loss='mean_squared_error', optimizer=optimizer) \""
      ]
     },
     "execution_count": 7,
     "metadata": {},
     "output_type": "execute_result"
    }
   ],
   "source": [
    "# Compile the model with Levenberg-Marquardt optimizer\n",
    "\"\"\" optimizer = RMSprop(learning_rate=0.001, rho=0.001,)\n",
    "model.compile(loss='mean_squared_error', optimizer=optimizer) \"\"\"\n",
    "#model.compile(loss='mse', optimizer='adam')\n",
    "#model.compile(loss='binary_crossentropy', optimizer='adam', metrics=['accuracy'])\n",
    "#model.compile(loss='mse', optimizer='adam', metrics=['accuracy'])"
   ]
  },
  {
   "attachments": {},
   "cell_type": "markdown",
   "metadata": {},
   "source": [
    "# train the model"
   ]
  },
  {
   "cell_type": "code",
   "execution_count": 8,
   "metadata": {},
   "outputs": [
    {
     "data": {
      "text/plain": [
       "' model.fit(X_train, y, epochs=100, batch_size=16) '"
      ]
     },
     "execution_count": 8,
     "metadata": {},
     "output_type": "execute_result"
    }
   ],
   "source": [
    "# Train the model\n",
    "#model.fit(X, y, epochs=100, batch_size=32, validation_split=0.2)\n",
    "\n",
    "\"\"\" model.fit(X_train, y, epochs=100, batch_size=16) \"\"\"\n"
   ]
  },
  {
   "attachments": {},
   "cell_type": "markdown",
   "metadata": {},
   "source": [
    "# Evaluate the model and make prediction "
   ]
  },
  {
   "cell_type": "code",
   "execution_count": 9,
   "metadata": {},
   "outputs": [
    {
     "name": "stdout",
     "output_type": "stream",
     "text": [
      "new_data is : \n",
      "[[-0.76774194  1.22702703 -0.54545455]\n",
      " [-0.76774194  1.22702703 -0.48484848]\n",
      " [-0.76774194  1.22702703 -0.42424242]\n",
      " ...\n",
      " [ 1.2516129  -0.51891892  1.24242424]\n",
      " [ 1.2516129  -0.51891892  1.36363636]\n",
      " [ 1.2516129  -0.51891892  1.48484848]]\n",
      "36/36 [==============================] - 0s 643us/step\n",
      "predictions is : \n",
      "      predictions\n",
      "0      109.636314\n",
      "1       82.974823\n",
      "2       60.444534\n",
      "3       45.281433\n",
      "4       34.361656\n",
      "...           ...\n",
      "1147    -0.258989\n",
      "1148    -0.323241\n",
      "1149    -0.389827\n",
      "1150    -0.482334\n",
      "1151    -0.584213\n",
      "\n",
      "[1152 rows x 1 columns]\n",
      "36/36 [==============================] - 0s 719us/step - loss: 12.6325\n",
      "score  12.632473945617676\n",
      "12.632473945617676\n",
      "mse 12.632478236791577\n"
     ]
    }
   ],
   "source": [
    "from sklearn.metrics import mean_squared_error\n",
    "\n",
    "# Make predictions on new data\n",
    "X_test = scaler.transform(X)\n",
    "print(\"new_data is : \")\n",
    "print(X_test)\n",
    "predictions = model.predict(X_test)\n",
    "predictions = predictions.flatten()\n",
    "predictions = pd.Series(predictions)\n",
    "predictions = predictions.to_frame('predictions')\n",
    "print(\"predictions is : \")\n",
    "print(predictions)\n",
    "\n",
    "# Evaluate the model\n",
    "score = model.evaluate(X_test, y)\n",
    "print(\"score \" , score)\n",
    "print(score)\n",
    "mse = mean_squared_error(y,predictions)\n",
    "print('mse' , mse)\n",
    "\n",
    "#print(\"accuracy\")\n",
    "#print(accuracy)"
   ]
  },
  {
   "attachments": {},
   "cell_type": "markdown",
   "metadata": {},
   "source": [
    "# save current compiled model"
   ]
  },
  {
   "cell_type": "code",
   "execution_count": 10,
   "metadata": {},
   "outputs": [
    {
     "data": {
      "text/plain": [
       "\" model.save('NegPion_3_test-17-5-2023-10-6L-out-noactivation-another-tofit-graph.h5') \""
      ]
     },
     "execution_count": 10,
     "metadata": {},
     "output_type": "execute_result"
    }
   ],
   "source": [
    "# Save the model\n",
    "\"\"\" model.save('NegPion_3_test-17-5-2023-10-6L-out-noactivation-another-tofit-graph.h5') \"\"\""
   ]
  },
  {
   "attachments": {},
   "cell_type": "markdown",
   "metadata": {},
   "source": [
    "# draw "
   ]
  },
  {
   "cell_type": "code",
   "execution_count": 11,
   "metadata": {},
   "outputs": [
    {
     "name": "stdout",
     "output_type": "stream",
     "text": [
      "shape of data (1152, 6)\n",
      "shape of pred (1152, 1)\n",
      "shape of datap (1152, 7)\n",
      "shape of xap (1152, 7)\n",
      "shape of xapf (26, 7)\n"
     ]
    },
    {
     "data": {
      "image/png": "[encoded data removed]",
      "text/plain": [
       "<Figure size 640x480 with 1 Axes>"
      ]
     },
     "metadata": {},
     "output_type": "display_data"
    },
    {
     "name": "stderr",
     "output_type": "stream",
     "text": [
      "No artists with labels found to put in legend.  Note that artists whose label start with an underscore are ignored when legend() is called with no argument.\n"
     ]
    },
    {
     "data": {
      "image/png": "[encoded data removed]",
      "text/plain": [
       "<Figure size 640x480 with 1 Axes>"
      ]
     },
     "metadata": {},
     "output_type": "display_data"
    },
    {
     "data": {
      "text/plain": [
       "<Figure size 640x480 with 0 Axes>"
      ]
     },
     "metadata": {},
     "output_type": "display_data"
    }
   ],
   "source": [
    "# for drawing in 2d i choose Pt as x-axis\n",
    "error = data['Spectrum'] - predictions['predictions']\n",
    "error = error.to_frame('error')\n",
    "print('shape of data' , data.shape)\n",
    "print('shape of pred' , predictions.shape)\n",
    "datap = pd.concat([data,predictions],axis=1)\n",
    "print('shape of datap',datap.shape)\n",
    "\n",
    "# xap : data\n",
    "xap = pd.DataFrame(datap)\n",
    "# xapf : xap after filteration\n",
    "xapf= pd.DataFrame(datap)\n",
    "xapf = xapf[xapf['s']==7.7]\n",
    "xapf = xapf[xapf['N part']==337]\n",
    "print('shape of xap',xap.shape)\n",
    "print('shape of xapf',xapf.shape)\n",
    "\n",
    "# Plot the data and predictions\n",
    "\n",
    "plt.semilogy(xapf['Pt'], xapf['Spectrum']   ,'bo', label='Actual')\n",
    "plt.semilogy(xapf['Pt'], xapf['predictions'],'ro', label='Predicted')\n",
    "#plt.scatter(xapf['Pt'], xapf['Spectrum'])\n",
    "#plt.scatter(xapf['Pt'], xapf['predictions'])\n",
    "plt.xlabel('Pt')\n",
    "plt.ylabel('Output')\n",
    "plt.legend()\n",
    "plt.show()\n",
    "plt.savefig(nameFigImg)\n",
    "\n",
    "# Plot the data and predictions\n",
    "\n",
    "plt.scatter(xapf['Pt'], xapf['Spectrum'])\n",
    "plt.scatter(xapf['Pt'], xapf['predictions'])\n",
    "plt.xlabel('Pt')\n",
    "plt.ylabel('Output normal')\n",
    "plt.legend()\n",
    "plt.show()\n",
    "plt.savefig('fig_in3'+'-normal'+'.png')"
   ]
  },
  {
   "attachments": {},
   "cell_type": "markdown",
   "metadata": {},
   "source": [
    "# write output to excel "
   ]
  },
  {
   "cell_type": "code",
   "execution_count": 12,
   "metadata": {},
   "outputs": [
    {
     "name": "stdout",
     "output_type": "stream",
     "text": [
      "     s  N part     Pt  Spectrum     err1     err2  predictions\n",
      "0  7.7     337  0.275  114.8980  0.21538  7.89015   109.636314\n",
      "1  7.7     337  0.325   83.9507  0.17051  5.61535    82.974823\n",
      "2  7.7     337  0.375   62.4481  0.13799  4.10800    60.444534\n",
      "3  7.7     337  0.425   46.3708  0.11247  3.01883    45.281433\n",
      "4  7.7     337  0.475   34.7823  0.09267  2.24990    34.361656\n",
      "5  7.7     337  0.525   26.3221  0.07704  1.69598    25.767565\n",
      "6  7.7     337  0.575   19.7093  0.06396  1.26704    19.523569\n",
      "7  7.7     337  0.625   15.0548  0.05379  0.96702    15.277901\n",
      "8  7.7     337  0.675   11.2735  0.04492  0.73605    11.851899\n",
      "9  7.7     337  0.725    8.7656  0.03832  0.56201     9.324275\n"
     ]
    }
   ],
   "source": [
    "\n",
    "# Write predictions , data to Excel file\n",
    "outputpredicat = pd.DataFrame(datap)\n",
    "# output is data frame\n",
    "print(outputpredicat.head(10))\n",
    "# Write the DataFrames to an Excel file with three sheets\n",
    "with pd.ExcelWriter(outputFile) as writer:\n",
    "    outputpredicat.to_excel(writer, sheet_name=outputSheetName, index=False)\n",
    "    #output.to_excel(writer, sheet_name='output', index=False)\n"
   ]
  },
  {
   "attachments": {},
   "cell_type": "markdown",
   "metadata": {},
   "source": [
    "# print model summery "
   ]
  },
  {
   "cell_type": "code",
   "execution_count": 13,
   "metadata": {},
   "outputs": [
    {
     "name": "stdout",
     "output_type": "stream",
     "text": [
      "End\n",
      "score 12.632473945617676\n",
      "Model: \"sequential_6\"\n",
      "_________________________________________________________________\n",
      " Layer (type)                Output Shape              Param #   \n",
      "=================================================================\n",
      " dense_30 (Dense)            (None, 30)                120       \n",
      "                                                                 \n",
      " dense_31 (Dense)            (None, 30)                930       \n",
      "                                                                 \n",
      " dense_32 (Dense)            (None, 30)                930       \n",
      "                                                                 \n",
      " dense_33 (Dense)            (None, 30)                930       \n",
      "                                                                 \n",
      " dense_34 (Dense)            (None, 1)                 31        \n",
      "                                                                 \n",
      "=================================================================\n",
      "Total params: 2941 (11.49 KB)\n",
      "Trainable params: 2941 (11.49 KB)\n",
      "Non-trainable params: 0 (0.00 Byte)\n",
      "_________________________________________________________________\n",
      "None\n"
     ]
    }
   ],
   "source": [
    "\n",
    "print(\"End\")\n",
    "#print(\"accuracy :\" + str(accuracy))\n",
    "print(\"score \" + str(score))\n",
    "print(model.summary())"
   ]
  }
 ],
 "metadata": {
  "kernelspec": {
   "display_name": ".venv",
   "language": "python",
   "name": "python3"
  },
  "language_info": {
   "codemirror_mode": {
    "name": "ipython",
    "version": 3
   },
   "file_extension": ".py",
   "mimetype": "text/x-python",
   "name": "python",
   "nbconvert_exporter": "python",
   "pygments_lexer": "ipython3",
   "version": "3.10.6"
  },
  "orig_nbformat": 4
 },
 "nbformat": 4,
 "nbformat_minor": 2
}

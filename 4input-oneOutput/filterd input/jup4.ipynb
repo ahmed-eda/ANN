{
 "cells": [
  {
   "attachments": {},
   "cell_type": "markdown",
   "metadata": {},
   "source": [
    "# ANN for make simulation and make prediction in physics"
   ]
  },
  {
   "attachments": {},
   "cell_type": "markdown",
   "metadata": {
    "notebookRunGroups": {
     "groupValue": "12"
    }
   },
   "source": [
    "# import working liberary"
   ]
  },
  {
   "cell_type": "code",
   "execution_count": 262,
   "metadata": {},
   "outputs": [],
   "source": [
    "import pandas as pd\n",
    "import matplotlib.pyplot as plt\n",
    "from keras.models import Sequential\n",
    "from keras.layers import Dense, BatchNormalization\n",
    "from keras.optimizers import RMSprop\n",
    "from keras.models import load_model\n",
    "import numpy as np"
   ]
  },
  {
   "attachments": {},
   "cell_type": "markdown",
   "metadata": {},
   "source": [
    "# global variables"
   ]
  },
  {
   "cell_type": "code",
   "execution_count": 263,
   "metadata": {},
   "outputs": [],
   "source": [
    "# input variable to program\n",
    "#inputFile = 'datasets/collect data_pi-modified.xlsx'\n",
    "inputFile = 'All data mesons+baryons.xlsx'\n",
    "inputSheetName = 'main'\n"
   ]
  },
  {
   "attachments": {},
   "cell_type": "markdown",
   "metadata": {},
   "source": [
    "# read data"
   ]
  },
  {
   "cell_type": "code",
   "execution_count": 264,
   "metadata": {},
   "outputs": [
    {
     "name": "stdout",
     "output_type": "stream",
     "text": [
      "<bound method NDFrame.head of         mass     s  N part     Pt\n",
      "0     139.57   7.7     337  0.425\n",
      "1     139.57   7.7     337  0.475\n",
      "2     139.57   7.7     337  0.525\n",
      "3     139.57   7.7     337  0.575\n",
      "4     139.57   7.7     337  0.625\n",
      "...      ...   ...     ...    ...\n",
      "6445  938.27  39.0      14  1.550\n",
      "6446  938.27  39.0      14  1.650\n",
      "6447  938.27  39.0      14  1.750\n",
      "6448  938.27  39.0      14  1.850\n",
      "6449  938.27  39.0      14  1.950\n",
      "\n",
      "[6450 rows x 4 columns]>\n",
      "<bound method NDFrame.head of       Spectrum\n",
      "0      46.3708\n",
      "1      34.7823\n",
      "2      26.3221\n",
      "3      19.7093\n",
      "4      15.0548\n",
      "...        ...\n",
      "6445    0.0073\n",
      "6446    0.0049\n",
      "6447    0.0034\n",
      "6448    0.0023\n",
      "6449    0.0016\n",
      "\n",
      "[6450 rows x 1 columns]>\n"
     ]
    }
   ],
   "source": [
    "\"\"\" from openpyxl import Workbook\n",
    "import openpyxl \"\"\"\n",
    "# Read the data from the excel file\n",
    "data_all = pd.read_excel(inputFile,sheet_name=inputSheetName)\n",
    "#data =pd.DataFrame(data_all)     # data_all[data_all['Spectrum']<60]\n",
    "temp_data_all = data_all[data_all['Spectrum']<60]\n",
    "data =temp_data_all.reset_index(drop=True)\n",
    "\n",
    "#data = data_all\n",
    "#data = data[data['N part']==337]\n",
    "# Split the data into input and output variables\n",
    "X = data[['mass','s','N part','Pt']]\n",
    "y = data['Spectrum'].to_frame('Spectrum')\n",
    "\n",
    "print(X.head)\n",
    "print(y.head)"
   ]
  },
  {
   "attachments": {},
   "cell_type": "markdown",
   "metadata": {},
   "source": [
    "# normaliz input"
   ]
  },
  {
   "cell_type": "code",
   "execution_count": 265,
   "metadata": {},
   "outputs": [
    {
     "name": "stdout",
     "output_type": "stream",
     "text": [
      "X_normalized\n",
      "[[-0.4433542  -0.76774194  1.22702703 -0.40625   ]\n",
      " [-0.4433542  -0.76774194  1.22702703 -0.34375   ]\n",
      " [-0.4433542  -0.76774194  1.22702703 -0.28125   ]\n",
      " ...\n",
      " [ 0.5566458   1.2516129  -0.51891892  1.25      ]\n",
      " [ 0.5566458   1.2516129  -0.51891892  1.375     ]\n",
      " [ 0.5566458   1.2516129  -0.51891892  1.5       ]]\n",
      "X_train\n",
      "[[-0.4433542  -0.76774194  1.22702703 -0.40625   ]\n",
      " [-0.4433542  -0.76774194  1.22702703 -0.34375   ]\n",
      " [-0.4433542  -0.76774194  1.22702703 -0.28125   ]\n",
      " ...\n",
      " [ 0.5566458   1.2516129  -0.51891892  1.25      ]\n",
      " [ 0.5566458   1.2516129  -0.51891892  1.375     ]\n",
      " [ 0.5566458   1.2516129  -0.51891892  1.5       ]]\n"
     ]
    }
   ],
   "source": [
    "# Normalize the input\n",
    "from sklearn.preprocessing import RobustScaler\n",
    "from sklearn.preprocessing import StandardScaler\n",
    "# Create a RobustScaler object\n",
    "scaler = RobustScaler()\n",
    "#scaler = StandardScaler()\n",
    "# Fit the scaler to the input data and transform it\n",
    "X_normalized = scaler.fit_transform(X)\n",
    "# Print the normalized input data\n",
    "print('X_normalized')\n",
    "print(X_normalized)\n",
    "X_train = X_normalized\n",
    "#X_train = X\n",
    "print('X_train')\n",
    "print(X_train) \n"
   ]
  },
  {
   "attachments": {},
   "cell_type": "markdown",
   "metadata": {},
   "source": [
    "# loada saved model"
   ]
  },
  {
   "cell_type": "code",
   "execution_count": 266,
   "metadata": {},
   "outputs": [],
   "source": [
    "# Load the saved model\n",
    "modelName = 'good - all_hadrons_4_test-19-5-2023-8L-100-16.h5'\n",
    "model = load_model(modelName)\n",
    "#configure output parameters\n",
    "outputFile = 'out_in4- '+modelName+' .xlsx'\n",
    "summaryOutFile = modelName + ' - Summary .txt'\n",
    "outputSheetName = 'predicat_in4-good -  '+modelName+' '\n",
    "nameFigImg = 'fig_in4- '+modelName+' .png'"
   ]
  },
  {
   "attachments": {},
   "cell_type": "markdown",
   "metadata": {},
   "source": [
    "# define the model - compile - fit - save"
   ]
  },
  {
   "cell_type": "code",
   "execution_count": 267,
   "metadata": {},
   "outputs": [
    {
     "data": {
      "text/plain": [
       "\" # Define the model\\nmodelName = 'all-hadron-4in.h5'\\nmodel = Sequential(name=modelName)\\n# Add the first dense layer\\nmodel.add(Dense(40, input_dim=4, activation='relu'))\\n\\n# Add batch normalization\\n#model.add(BatchNormalization())\\nmodel.add(Dense(40, activation='relu'))\\n#model.add(BatchNormalization())\\nmodel.add(Dense(80, activation='relu'))\\nmodel.add(Dense(80, activation='relu'))\\nmodel.add(Dense(40, activation='relu'))\\nmodel.add(Dense(40, activation='relu'))\\n\\n# Add the output layer\\nmodel.add(Dense(1))\\n# Add the output layer\\n#model.add(Dense(1, activation='softmax')) \\n\\n''' # compile the model      '''\\n\\n# Compile the model with Levenberg-Marquardt optimizer\\noptimizer = RMSprop(learning_rate=0.001, rho=0.001,)\\nmodel.compile(loss='mean_squared_error', optimizer=optimizer)\\n\\n''' train the model & save current compiled model  '''\\n# Train the model\\n#model.fit(X, y, epochs=100, batch_size=32, validation_split=0.2)\\nmodel.fit(X_train, y, epochs=100, batch_size=16) \\n# Save the model\\nmodel.save('modified-input-all_hadrons_4_test-19-5-2023-8L-100-16.h5')\\n\\n\\n \""
      ]
     },
     "execution_count": 267,
     "metadata": {},
     "output_type": "execute_result"
    }
   ],
   "source": [
    "\n",
    "''' Define the model '''\n",
    "\"\"\" # Define the model\n",
    "modelName = 'all-hadron-4in.h5'\n",
    "model = Sequential(name=modelName)\n",
    "# Add the first dense layer\n",
    "model.add(Dense(40, input_dim=4, activation='relu'))\n",
    "\n",
    "# Add batch normalization\n",
    "#model.add(BatchNormalization())\n",
    "model.add(Dense(40, activation='relu'))\n",
    "#model.add(BatchNormalization())\n",
    "model.add(Dense(80, activation='relu'))\n",
    "model.add(Dense(80, activation='relu'))\n",
    "model.add(Dense(40, activation='relu'))\n",
    "model.add(Dense(40, activation='relu'))\n",
    "\n",
    "# Add the output layer\n",
    "model.add(Dense(1))\n",
    "# Add the output layer\n",
    "#model.add(Dense(1, activation='softmax')) \n",
    "\n",
    "''' # compile the model      '''\n",
    "\n",
    "# Compile the model with Levenberg-Marquardt optimizer\n",
    "optimizer = RMSprop(learning_rate=0.001, rho=0.001,)\n",
    "model.compile(loss='mean_squared_error', optimizer=optimizer)\n",
    "\n",
    "''' train the model & save current compiled model  '''\n",
    "# Train the model\n",
    "#model.fit(X, y, epochs=100, batch_size=32, validation_split=0.2)\n",
    "model.fit(X_train, y, epochs=100, batch_size=16) \n",
    "# Save the model\n",
    "model.save('modified-input-all_hadrons_4_test-19-5-2023-8L-100-16.h5')\n",
    "\n",
    "\n",
    " \"\"\""
   ]
  },
  {
   "attachments": {},
   "cell_type": "markdown",
   "metadata": {},
   "source": [
    "# Evaluate the model and make prediction "
   ]
  },
  {
   "cell_type": "code",
   "execution_count": 268,
   "metadata": {},
   "outputs": [
    {
     "name": "stdout",
     "output_type": "stream",
     "text": [
      "new_data is : \n",
      "             0         1         2        3\n",
      "0    -0.443354 -0.767742  1.227027 -0.40625\n",
      "1    -0.443354 -0.767742  1.227027 -0.34375\n",
      "2    -0.443354 -0.767742  1.227027 -0.28125\n",
      "3    -0.443354 -0.767742  1.227027 -0.21875\n",
      "4    -0.443354 -0.767742  1.227027 -0.15625\n",
      "...        ...       ...       ...      ...\n",
      "6445  0.556646  1.251613 -0.518919  1.00000\n",
      "6446  0.556646  1.251613 -0.518919  1.12500\n",
      "6447  0.556646  1.251613 -0.518919  1.25000\n",
      "6448  0.556646  1.251613 -0.518919  1.37500\n",
      "6449  0.556646  1.251613 -0.518919  1.50000\n",
      "\n",
      "[6450 rows x 4 columns]\n",
      "202/202 [==============================] - 0s 597us/step\n",
      "predictions is : \n",
      "      predictions\n",
      "0       50.695030\n",
      "1       39.451057\n",
      "2       30.011566\n",
      "3       22.124079\n",
      "4       16.366070\n",
      "...           ...\n",
      "6445    -0.013973\n",
      "6446     0.001270\n",
      "6447     0.020193\n",
      "6448     0.020156\n",
      "6449     0.009678\n",
      "\n",
      "[6450 rows x 1 columns]\n",
      "202/202 [==============================] - 0s 638us/step - loss: 2.2244\n",
      "score  2.2243964672088623\n",
      "2.2243964672088623\n",
      "mse 2.2243966097732755\n"
     ]
    }
   ],
   "source": [
    "from sklearn.metrics import mean_squared_error\n",
    "\n",
    "# Make predictions on new data\n",
    "X_test =pd.DataFrame(X_train) #scaler.transform(X)\n",
    "#X_test = scaler.fit_transform(X)\n",
    "print(\"new_data is : \")\n",
    "print(X_test)\n",
    "predictions = model.predict(X_test)\n",
    "predictions = predictions.flatten()\n",
    "predictions = pd.Series(predictions)\n",
    "predictions = predictions.to_frame('predictions')\n",
    "print(\"predictions is : \")\n",
    "print(predictions)\n",
    "\n",
    "# Evaluate the model\n",
    "score = model.evaluate(X_test, y)\n",
    "print(\"score \" , score)\n",
    "print(score)\n",
    "mse = mean_squared_error(y,predictions)\n",
    "print('mse' , mse)\n",
    "\n",
    "#print(\"accuracy\")\n",
    "#print(accuracy)"
   ]
  },
  {
   "attachments": {},
   "cell_type": "markdown",
   "metadata": {},
   "source": [
    "# draw "
   ]
  },
  {
   "cell_type": "code",
   "execution_count": 269,
   "metadata": {},
   "outputs": [
    {
     "name": "stdout",
     "output_type": "stream",
     "text": [
      "shape of data (6450, 7)\n",
      "shape of pred (6450, 1)\n",
      "shape of datap (6450, 8)\n",
      "data : \n",
      "         mass     s  N part     Pt  Spectrum     err1     err2\n",
      "0     139.57   7.7     337  0.425   46.3708  0.11247  3.01883\n",
      "1     139.57   7.7     337  0.475   34.7823  0.09267  2.24990\n",
      "2     139.57   7.7     337  0.525   26.3221  0.07704  1.69598\n",
      "3     139.57   7.7     337  0.575   19.7093  0.06396  1.26704\n",
      "4     139.57   7.7     337  0.625   15.0548  0.05379  0.96702\n",
      "...      ...   ...     ...    ...       ...      ...      ...\n",
      "6445  938.27  39.0      14  1.550    0.0073  0.00008  0.00070\n",
      "6446  938.27  39.0      14  1.650    0.0049  0.00007  0.00057\n",
      "6447  938.27  39.0      14  1.750    0.0034  0.00005  0.00039\n",
      "6448  938.27  39.0      14  1.850    0.0023  0.00004  0.00026\n",
      "6449  938.27  39.0      14  1.950    0.0016  0.00003  0.00018\n",
      "\n",
      "[6450 rows x 7 columns]\n",
      "pred \n",
      "        predictions\n",
      "0       50.695030\n",
      "1       39.451057\n",
      "2       30.011566\n",
      "3       22.124079\n",
      "4       16.366070\n",
      "...           ...\n",
      "6445    -0.013973\n",
      "6446     0.001270\n",
      "6447     0.020193\n",
      "6448     0.020156\n",
      "6449     0.009678\n",
      "\n",
      "[6450 rows x 1 columns]\n",
      "datap \n",
      "         mass     s  N part     Pt  Spectrum     err1     err2  predictions\n",
      "0     139.57   7.7     337  0.425   46.3708  0.11247  3.01883    50.695030\n",
      "1     139.57   7.7     337  0.475   34.7823  0.09267  2.24990    39.451057\n",
      "2     139.57   7.7     337  0.525   26.3221  0.07704  1.69598    30.011566\n",
      "3     139.57   7.7     337  0.575   19.7093  0.06396  1.26704    22.124079\n",
      "4     139.57   7.7     337  0.625   15.0548  0.05379  0.96702    16.366070\n",
      "...      ...   ...     ...    ...       ...      ...      ...          ...\n",
      "6445  938.27  39.0      14  1.550    0.0073  0.00008  0.00070    -0.013973\n",
      "6446  938.27  39.0      14  1.650    0.0049  0.00007  0.00057     0.001270\n",
      "6447  938.27  39.0      14  1.750    0.0034  0.00005  0.00039     0.020193\n",
      "6448  938.27  39.0      14  1.850    0.0023  0.00004  0.00026     0.020156\n",
      "6449  938.27  39.0      14  1.950    0.0016  0.00003  0.00018     0.009678\n",
      "\n",
      "[6450 rows x 8 columns]\n",
      "xapf : \n",
      "         mass    s  N part     Pt  Spectrum     err1     err2  predictions\n",
      "0     139.57  7.7     337  0.425   46.3708  0.11247  3.01883    50.695030\n",
      "1     139.57  7.7     337  0.475   34.7823  0.09267  2.24990    39.451057\n",
      "2     139.57  7.7     337  0.525   26.3221  0.07704  1.69598    30.011566\n",
      "3     139.57  7.7     337  0.575   19.7093  0.06396  1.26704    22.124079\n",
      "4     139.57  7.7     337  0.625   15.0548  0.05379  0.96702    16.366070\n",
      "5     139.57  7.7     337  0.675   11.2735  0.04492  0.73605    13.554954\n",
      "6     139.57  7.7     337  0.725    8.7656  0.03832  0.56201    11.105123\n",
      "7     139.57  7.7     337  0.450   40.5278  0.09157  2.62896    44.896904\n",
      "8     139.57  7.7     337  0.550   22.9845  0.06263  1.47893    25.896727\n",
      "9     139.57  7.7     337  0.650   13.3825  0.04416  0.85857    14.886326\n",
      "10    139.57  7.7     337  0.750    8.0326  0.03214  0.51490    10.007657\n",
      "11    139.57  7.7     337  0.850    4.8609  0.02371  0.31167     6.203151\n",
      "12    139.57  7.7     337  0.950    2.9687  0.01761  0.19063     3.735851\n",
      "13    139.57  7.7     337  1.050    1.8153  0.01307  0.11705     2.017987\n",
      "14    139.57  7.7     337  1.150    1.1242  0.00978  0.07324     1.478710\n",
      "15    139.57  7.7     337  1.250    0.6839  0.00729  0.04569     0.899188\n",
      "16    139.57  7.7     337  1.350    0.4270  0.00555  0.03024     0.656638\n",
      "17    139.57  7.7     337  1.450    0.2707  0.00427  0.02168     0.433802\n",
      "18    139.57  7.7     337  1.550    0.1693  0.00326  0.01688     0.219225\n",
      "19    139.57  7.7     337  1.650    0.0995  0.00241  0.00992     0.111371\n",
      "20    139.57  7.7     337  1.750    0.0560  0.00174  0.00560     0.053773\n",
      "21    139.57  7.7     337  1.850    0.0368  0.00139  0.00369     0.021528\n",
      "22    139.57  7.7     337  1.950    0.0238  0.00112  0.00240    -0.009289\n",
      "1093  139.57  7.7     337  0.375   57.2839  0.13216  3.76828    65.779045\n",
      "1094  139.57  7.7     337  0.425   43.3303  0.10871  2.82089    50.695030\n",
      "1095  139.57  7.7     337  0.475   32.9394  0.09018  2.13071    39.451057\n",
      "1096  139.57  7.7     337  0.525   24.9797  0.07505  1.60963    30.011566\n",
      "1097  139.57  7.7     337  0.575   19.1730  0.06308  1.23254    22.124079\n",
      "1098  139.57  7.7     337  0.625   14.5262  0.05284  0.93289    16.366070\n",
      "1099  139.57  7.7     337  0.675   11.2169  0.04481  0.71990    13.554954\n",
      "1100  139.57  7.7     337  0.725    8.7497  0.03828  0.56264    11.105123\n",
      "1101  139.57  7.7     337  0.450   38.2614  0.08835  2.48194    44.896904\n",
      "1102  139.57  7.7     337  0.550   22.2869  0.06139  1.43406    25.896727\n",
      "1103  139.57  7.7     337  0.650   13.0525  0.04340  0.83740    14.886326\n",
      "1104  139.57  7.7     337  0.750    7.9042  0.03166  0.50667    10.007657\n",
      "1105  139.57  7.7     337  0.850    4.9037  0.02361  0.31441     6.203151\n",
      "1106  139.57  7.7     337  0.950    3.0108  0.01759  0.19333     3.735851\n",
      "1107  139.57  7.7     337  1.050    1.8705  0.01318  0.12060     2.017987\n",
      "1108  139.57  7.7     337  1.150    1.1220  0.00971  0.07310     1.478710\n",
      "1109  139.57  7.7     337  1.250    0.7142  0.00739  0.04772     0.899188\n",
      "1110  139.57  7.7     337  1.350    0.4393  0.00557  0.03111     0.656638\n",
      "1111  139.57  7.7     337  1.450    0.2737  0.00424  0.02192     0.433802\n",
      "1112  139.57  7.7     337  1.550    0.1708  0.00323  0.01703     0.219225\n",
      "1113  139.57  7.7     337  1.650    0.1086  0.00248  0.01084     0.111371\n",
      "1114  139.57  7.7     337  1.750    0.0642  0.00183  0.00643     0.053773\n",
      "1115  139.57  7.7     337  1.850    0.0382  0.00136  0.00385     0.021528\n",
      "1116  139.57  7.7     337  1.950    0.0249  0.00107  0.00254    -0.009289\n",
      "datap shap : \n",
      " (6450, 8)\n",
      "xapf shap : \n",
      " (47, 8)\n",
      "datagraph1 : \n",
      "          Pt  predictions\n",
      "0     0.425    50.695030\n",
      "1     0.475    39.451057\n",
      "2     0.525    30.011566\n",
      "3     0.575    22.124079\n",
      "4     0.625    16.366070\n",
      "5     0.675    13.554954\n",
      "6     0.725    11.105123\n",
      "7     0.450    44.896904\n",
      "8     0.550    25.896727\n",
      "9     0.650    14.886326\n",
      "10    0.750    10.007657\n",
      "11    0.850     6.203151\n",
      "12    0.950     3.735851\n",
      "13    1.050     2.017987\n",
      "14    1.150     1.478710\n",
      "15    1.250     0.899188\n",
      "16    1.350     0.656638\n",
      "17    1.450     0.433802\n",
      "18    1.550     0.219225\n",
      "19    1.650     0.111371\n",
      "20    1.750     0.053773\n",
      "21    1.850     0.021528\n",
      "22    1.950    -0.009289\n",
      "1093  0.375    65.779045\n",
      "1094  0.425    50.695030\n",
      "1095  0.475    39.451057\n",
      "1096  0.525    30.011566\n",
      "1097  0.575    22.124079\n",
      "1098  0.625    16.366070\n",
      "1099  0.675    13.554954\n",
      "1100  0.725    11.105123\n",
      "1101  0.450    44.896904\n",
      "1102  0.550    25.896727\n",
      "1103  0.650    14.886326\n",
      "1104  0.750    10.007657\n",
      "1105  0.850     6.203151\n",
      "1106  0.950     3.735851\n",
      "1107  1.050     2.017987\n",
      "1108  1.150     1.478710\n",
      "1109  1.250     0.899188\n",
      "1110  1.350     0.656638\n",
      "1111  1.450     0.433802\n",
      "1112  1.550     0.219225\n",
      "1113  1.650     0.111371\n",
      "1114  1.750     0.053773\n",
      "1115  1.850     0.021528\n",
      "1116  1.950    -0.009289\n",
      "dataGraph : \n",
      "          Pt  predictions  Spectrum\n",
      "0     0.425    50.695030   46.3708\n",
      "1     0.475    39.451057   34.7823\n",
      "2     0.525    30.011566   26.3221\n",
      "3     0.575    22.124079   19.7093\n",
      "4     0.625    16.366070   15.0548\n",
      "5     0.675    13.554954   11.2735\n",
      "6     0.725    11.105123    8.7656\n",
      "7     0.450    44.896904   40.5278\n",
      "8     0.550    25.896727   22.9845\n",
      "9     0.650    14.886326   13.3825\n",
      "10    0.750    10.007657    8.0326\n",
      "11    0.850     6.203151    4.8609\n",
      "12    0.950     3.735851    2.9687\n",
      "13    1.050     2.017987    1.8153\n",
      "14    1.150     1.478710    1.1242\n",
      "15    1.250     0.899188    0.6839\n",
      "16    1.350     0.656638    0.4270\n",
      "17    1.450     0.433802    0.2707\n",
      "18    1.550     0.219225    0.1693\n",
      "19    1.650     0.111371    0.0995\n",
      "20    1.750     0.053773    0.0560\n",
      "21    1.850     0.021528    0.0368\n",
      "22    1.950    -0.009289    0.0238\n",
      "1093  0.375    65.779045   57.2839\n",
      "1094  0.425    50.695030   43.3303\n",
      "1095  0.475    39.451057   32.9394\n",
      "1096  0.525    30.011566   24.9797\n",
      "1097  0.575    22.124079   19.1730\n",
      "1098  0.625    16.366070   14.5262\n",
      "1099  0.675    13.554954   11.2169\n",
      "1100  0.725    11.105123    8.7497\n",
      "1101  0.450    44.896904   38.2614\n",
      "1102  0.550    25.896727   22.2869\n",
      "1103  0.650    14.886326   13.0525\n",
      "1104  0.750    10.007657    7.9042\n",
      "1105  0.850     6.203151    4.9037\n",
      "1106  0.950     3.735851    3.0108\n",
      "1107  1.050     2.017987    1.8705\n",
      "1108  1.150     1.478710    1.1220\n",
      "1109  1.250     0.899188    0.7142\n",
      "1110  1.350     0.656638    0.4393\n",
      "1111  1.450     0.433802    0.2737\n",
      "1112  1.550     0.219225    0.1708\n",
      "1113  1.650     0.111371    0.1086\n",
      "1114  1.750     0.053773    0.0642\n",
      "1115  1.850     0.021528    0.0382\n",
      "1116  1.950    -0.009289    0.0249\n",
      "shape of dataGraph (47, 3)\n"
     ]
    },
    {
     "data": {
      "image/png": "[encoded data removed]",
      "text/plain": [
       "<Figure size 640x480 with 1 Axes>"
      ]
     },
     "metadata": {},
     "output_type": "display_data"
    },
    {
     "data": {
      "text/plain": [
       "<Figure size 640x480 with 0 Axes>"
      ]
     },
     "metadata": {},
     "output_type": "display_data"
    }
   ],
   "source": [
    "# for drawing in 2d i choose Pt as x-axis\n",
    "error = data['Spectrum'] - predictions['predictions']\n",
    "error = error.to_frame('error')\n",
    "print('shape of data' , data.shape)\n",
    "print('shape of pred' , predictions.shape)\n",
    "#datap = pd.concat([data,predictions],axis=1)\n",
    "datap = pd.merge(data,predictions,left_index=True, right_index=True)\n",
    "print('shape of datap',datap.shape)\n",
    "\n",
    "print('data : \\n',data)\n",
    "print('pred \\n ',predictions)\n",
    "print('datap \\n',datap)\n",
    "\n",
    "# xap : data\n",
    "xap = pd.DataFrame(datap)\n",
    "# xapf : xap after filteration\n",
    "xapf= pd.DataFrame(datap)\n",
    "xapf = xapf[xapf['mass']==139.57]\n",
    "xapf = xapf[xapf['s']==7.7]\n",
    "xapf = xapf[xapf['N part']==337]\n",
    "\n",
    "print ('xapf : \\n',xapf)\n",
    "print('datap shap : \\n',datap.shape)\n",
    "print ('xapf shap : \\n',xapf.shape)\n",
    "dataGraph1 = pd.merge(xapf['Pt'],xapf['predictions'],left_index=True, right_index=True)\n",
    "print('datagraph1 : \\n',dataGraph1)\n",
    "dataGraph = pd.merge(dataGraph1,xapf['Spectrum'],left_index=True, right_index=True)\n",
    "print('dataGraph : \\n', dataGraph)\n",
    "\n",
    "#dataGraph = pd.concat([xapf['Pt'],xapf['predictions'],xapf['Spectrum']],axis=1)\n",
    "#print(dataGraph)\n",
    "#print('shape of dataGraph',dataGraph.shape)\n",
    "print('shape of dataGraph',dataGraph.shape)\n",
    "\n",
    "# Plot the data and predictions\n",
    "\n",
    "#plt.semilogy(xapf['Pt'], xapf['Spectrum']   ,'bo', label='Actual')\n",
    "#plt.semilogy(xapf['Pt'], xapf['predictions'],'ro', label='Predicted')\n",
    "\"\"\" plt.scatter(xapf['Pt'], xapf['Spectrum'])\n",
    "plt.scatter(xapf['Pt'], xapf['predictions'])\n",
    "plt.xlabel('Pt')\n",
    "plt.ylabel('Output')\n",
    "plt.legend(['Ac'])\n",
    "plt.show()\n",
    "plt.savefig(nameFigImg) \"\"\"\n",
    "\n",
    "plt.scatter(dataGraph['Pt'], dataGraph['Spectrum'])\n",
    "plt.scatter(dataGraph['Pt'], dataGraph['predictions'])\n",
    "plt.xlabel('Pt')\n",
    "plt.ylabel('Output')\n",
    "plt.legend(['Actual Spectrum', 'Predicted Spectrum'])\n",
    "#plt.show()\n",
    "plt.savefig(nameFigImg)\n",
    "plt.show()"
   ]
  },
  {
   "attachments": {},
   "cell_type": "markdown",
   "metadata": {},
   "source": [
    "# write output to excel "
   ]
  },
  {
   "cell_type": "code",
   "execution_count": 270,
   "metadata": {},
   "outputs": [
    {
     "name": "stdout",
     "output_type": "stream",
     "text": [
      "Square error for each point :        SquareErrorForEachPoint\n",
      "0                    1.907077\n",
      "1                    3.972075\n",
      "2                    4.330119\n",
      "3                    3.291536\n",
      "4                    1.650039\n",
      "...                       ...\n",
      "6445               743.786695\n",
      "6446                32.177498\n",
      "6447              1456.613892\n",
      "6448              3542.501723\n",
      "6449              1479.558421\n",
      "\n",
      "[6450 rows x 1 columns]\n",
      "RMSE 0    106.295022\n",
      "dtype: float64\n"
     ]
    },
    {
     "name": "stderr",
     "output_type": "stream",
     "text": [
      "d:\\Repos\\ReposEda\\DrSamahPrjs\\ANN\\ANN\\.venv\\lib\\site-packages\\openpyxl\\workbook\\child.py:99: UserWarning: Title is more than 31 characters. Some applications may not be able to read the file\n",
      "  warnings.warn(\"Title is more than 31 characters. Some applications may not be able to read the file\")\n"
     ]
    }
   ],
   "source": [
    "\n",
    "# Write predictions , data to Excel file\n",
    "err1=data['err1'].to_frame('err1')\n",
    "err2=data['err2'].to_frame('err2')\n",
    "#SquareErrorForEachPoint = np.sqrt( ((datap['predictions']- datap['Spectrum'])/(err1- err2)))\n",
    "SquareErrorForEachPoint =np.square( (datap['predictions']- datap['Spectrum'])/(err1['err1']+ err2['err2']))\n",
    "\n",
    "SquareErrorForEachPoint = pd.Series(SquareErrorForEachPoint)\n",
    "SquareErrorForEachPoint = SquareErrorForEachPoint.to_frame('SquareErrorForEachPoint')\n",
    "print('Square error for each point : ',SquareErrorForEachPoint)\n",
    "\n",
    "outputpredicat = pd.concat([datap, SquareErrorForEachPoint], axis=1)\n",
    "#pd.DataFrame([datap,SquareErrorForEachPoint])\n",
    "# Calculate the RMSE.\n",
    "#rmse = mean_squared_error(outputpredicat['Spectrum'], outputpredicat['predictions'])\n",
    "mysum =outputpredicat['SquareErrorForEachPoint'].sum()\n",
    "mycount =(outputpredicat['SquareErrorForEachPoint'].count()) -1\n",
    "rmse = np.sqrt(mysum/mycount)\n",
    "\n",
    "#rmse = np.sqrt (np.average(outputpredicat['SquareErrorForEachPoint']))\n",
    "rmse = pd.Series(rmse)\n",
    "#rmse = pd.DataFrame({'rmse': rmse})\n",
    "print('RMSE',rmse)\n",
    "\n",
    "# output is data frame\n",
    "#print(outputpredicat.head(10))\n",
    "# Write the DataFrames to an Excel file with three sheets\n",
    "with pd.ExcelWriter(outputFile) as writer:\n",
    "    outputpredicat.to_excel(writer, sheet_name=outputSheetName, index=False)\n",
    "    rmse.to_excel(writer, sheet_name='RMSE', index=False)\n"
   ]
  },
  {
   "attachments": {},
   "cell_type": "markdown",
   "metadata": {},
   "source": [
    "# print model summery "
   ]
  },
  {
   "cell_type": "code",
   "execution_count": 271,
   "metadata": {},
   "outputs": [
    {
     "name": "stdout",
     "output_type": "stream",
     "text": [
      "End\n",
      "score 2.2243964672088623\n",
      "Model: \"sequential_6\"\n",
      "_________________________________________________________________\n",
      " Layer (type)                Output Shape              Param #   \n",
      "=================================================================\n",
      " dense_38 (Dense)            (None, 40)                200       \n",
      "                                                                 \n",
      " dense_39 (Dense)            (None, 40)                1640      \n",
      "                                                                 \n",
      " dense_40 (Dense)            (None, 80)                3280      \n",
      "                                                                 \n",
      " dense_41 (Dense)            (None, 80)                6480      \n",
      "                                                                 \n",
      " dense_42 (Dense)            (None, 40)                3240      \n",
      "                                                                 \n",
      " dense_43 (Dense)            (None, 40)                1640      \n",
      "                                                                 \n",
      " dense_44 (Dense)            (None, 1)                 41        \n",
      "                                                                 \n",
      "=================================================================\n",
      "Total params: 16521 (64.54 KB)\n",
      "Trainable params: 16521 (64.54 KB)\n",
      "Non-trainable params: 0 (0.00 Byte)\n",
      "_________________________________________________________________\n",
      "None\n"
     ]
    }
   ],
   "source": [
    "\n",
    "print(\"End\")\n",
    "#print(\"accuracy :\" + str(accuracy))\n",
    "print(\"score \" + str(score))\n",
    "SummaryOut = model.summary()\n",
    "print(SummaryOut)\n",
    "\n",
    "from io import StringIO\n",
    "# summarize the model\n",
    "with StringIO() as buf:\n",
    "    model.summary(print_fn=lambda x: buf.write(x + '\\n'))\n",
    "    summary = buf.getvalue()\n",
    "\n",
    "with open(modelName +'-summary.txt', 'w') as f:\n",
    "    f.write(summary)\n"
   ]
  }
 ],
 "metadata": {
  "kernelspec": {
   "display_name": ".venv",
   "language": "python",
   "name": "python3"
  },
  "language_info": {
   "codemirror_mode": {
    "name": "ipython",
    "version": 3
   },
   "file_extension": ".py",
   "mimetype": "text/x-python",
   "name": "python",
   "nbconvert_exporter": "python",
   "pygments_lexer": "ipython3",
   "version": "3.10.6"
  },
  "orig_nbformat": 4
 },
 "nbformat": 4,
 "nbformat_minor": 2
}

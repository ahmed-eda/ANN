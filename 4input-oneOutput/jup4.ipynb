{
 "cells": [
  {
   "attachments": {},
   "cell_type": "markdown",
   "metadata": {},
   "source": [
    "# ANN for make simulation and make prediction in physics"
   ]
  },
  {
   "attachments": {},
   "cell_type": "markdown",
   "metadata": {
    "notebookRunGroups": {
     "groupValue": "12"
    }
   },
   "source": [
    "# import working liberary"
   ]
  },
  {
   "cell_type": "code",
   "execution_count": 151,
   "metadata": {},
   "outputs": [],
   "source": [
    "import pandas as pd\n",
    "import matplotlib.pyplot as plt\n",
    "from keras.models import Sequential\n",
    "from keras.layers import Dense, BatchNormalization\n",
    "from keras.optimizers import RMSprop\n",
    "from keras.models import load_model\n",
    "import numpy as np"
   ]
  },
  {
   "attachments": {},
   "cell_type": "markdown",
   "metadata": {},
   "source": [
    "# global variables"
   ]
  },
  {
   "cell_type": "code",
   "execution_count": 152,
   "metadata": {},
   "outputs": [],
   "source": [
    "# input variable to program\n",
    "#inputFile = 'datasets/collect data_pi-modified.xlsx'\n",
    "inputFile = 'All data mesons+baryons.xlsx'\n",
    "inputSheetName = 'main'\n",
    "outputFile = 'out_in4.xlsx'\n",
    "outputSheetName = 'predicat_in4'\n",
    "nameFigImg = 'fig_in4.png'\n"
   ]
  },
  {
   "attachments": {},
   "cell_type": "markdown",
   "metadata": {},
   "source": [
    "# read data"
   ]
  },
  {
   "cell_type": "code",
   "execution_count": 153,
   "metadata": {},
   "outputs": [
    {
     "name": "stdout",
     "output_type": "stream",
     "text": [
      "<bound method NDFrame.head of         mass     s  N part     Pt\n",
      "0     139.57   7.7     337  0.275\n",
      "1     139.57   7.7     337  0.325\n",
      "2     139.57   7.7     337  0.375\n",
      "3     139.57   7.7     337  0.425\n",
      "4     139.57   7.7     337  0.475\n",
      "...      ...   ...     ...    ...\n",
      "6559  938.27  39.0      14  1.550\n",
      "6560  938.27  39.0      14  1.650\n",
      "6561  938.27  39.0      14  1.750\n",
      "6562  938.27  39.0      14  1.850\n",
      "6563  938.27  39.0      14  1.950\n",
      "\n",
      "[6564 rows x 4 columns]>\n"
     ]
    }
   ],
   "source": [
    "\"\"\" from openpyxl import Workbook\n",
    "import openpyxl \"\"\"\n",
    "# Read the data from the excel file\n",
    "data = pd.read_excel(inputFile,sheet_name=inputSheetName)\n",
    "#data = data[data['N part']==337]\n",
    "# Split the data into input and output variables\n",
    "#X = data.drop('sqrt', axis=1) #static input for each case : extra dat2 of fiting\n",
    "err1=data['err1'].to_frame('err1')\n",
    "err2=data['err2'].to_frame('err2')\n",
    "#X = data.drop('Spectrum', axis=1)\n",
    "#X = X.drop('err1', axis=1)\n",
    "#X = X.drop('err2', axis=1)\n",
    "#X = data['Pt']\n",
    "X = data[['mass','s','N part','Pt']]\n",
    "y = data['Spectrum'].to_frame('Spectrum')\n",
    "#y = pd.Series(y)\n",
    "#y = y.to_frame('Spectrum')\n",
    "print(X.head)"
   ]
  },
  {
   "attachments": {},
   "cell_type": "markdown",
   "metadata": {},
   "source": [
    "# normaliz input"
   ]
  },
  {
   "cell_type": "code",
   "execution_count": 154,
   "metadata": {},
   "outputs": [
    {
     "name": "stdout",
     "output_type": "stream",
     "text": [
      "X_normalized\n",
      "[[-0.4433542  -0.76774194  1.22162162 -0.59375   ]\n",
      " [-0.4433542  -0.76774194  1.22162162 -0.53125   ]\n",
      " [-0.4433542  -0.76774194  1.22162162 -0.46875   ]\n",
      " ...\n",
      " [ 0.5566458   1.2516129  -0.52432432  1.25      ]\n",
      " [ 0.5566458   1.2516129  -0.52432432  1.375     ]\n",
      " [ 0.5566458   1.2516129  -0.52432432  1.5       ]]\n",
      "X_train\n",
      "[[-0.4433542  -0.76774194  1.22162162 -0.59375   ]\n",
      " [-0.4433542  -0.76774194  1.22162162 -0.53125   ]\n",
      " [-0.4433542  -0.76774194  1.22162162 -0.46875   ]\n",
      " ...\n",
      " [ 0.5566458   1.2516129  -0.52432432  1.25      ]\n",
      " [ 0.5566458   1.2516129  -0.52432432  1.375     ]\n",
      " [ 0.5566458   1.2516129  -0.52432432  1.5       ]]\n"
     ]
    }
   ],
   "source": [
    "# Normalize the input\n",
    "from sklearn.preprocessing import RobustScaler\n",
    "# Create a RobustScaler object\n",
    "scaler = RobustScaler()\n",
    "# Fit the scaler to the input data and transform it\n",
    "X_normalized = scaler.fit_transform(X)\n",
    "# Print the normalized input data\n",
    "print('X_normalized')\n",
    "print(X_normalized)\n",
    "X_train = X_normalized\n",
    "print('X_train')\n",
    "print(X_train) \n"
   ]
  },
  {
   "attachments": {},
   "cell_type": "markdown",
   "metadata": {},
   "source": [
    "# loada saved model"
   ]
  },
  {
   "cell_type": "code",
   "execution_count": 155,
   "metadata": {},
   "outputs": [],
   "source": [
    "\n",
    "# Load the saved model\n",
    "modelName = 'good - all_hadrons_4_test-19-5-2023-8L-100-16.h5'\n",
    "model = load_model(modelName)\n",
    "outputFile = 'out_in4- '+modelName+' .xlsx'\n",
    "outputSheetName = 'predicat_in4-good -  '+modelName+' '\n",
    "nameFigImg = 'fig_in4-good -  '+modelName+' .png'"
   ]
  },
  {
   "attachments": {},
   "cell_type": "markdown",
   "metadata": {},
   "source": [
    "# define the model - compile - fit - save"
   ]
  },
  {
   "cell_type": "code",
   "execution_count": 156,
   "metadata": {},
   "outputs": [
    {
     "data": {
      "text/plain": [
       "\" \\n''' Define the model '''\\n# Define the model\\nmodelName = 'all-hadron-4in.h5'\\nmodel = Sequential(name=modelName)\\n# Add the first dense layer\\nmodel.add(Dense(40, input_dim=4, activation='relu'))\\n\\n# Add batch normalization\\n#model.add(BatchNormalization())\\nmodel.add(Dense(40, activation='relu'))\\n#model.add(BatchNormalization())\\nmodel.add(Dense(80, activation='relu'))\\nmodel.add(Dense(80, activation='relu'))\\nmodel.add(Dense(40, activation='relu'))\\nmodel.add(Dense(40, activation='relu'))\\n\\n# Add the output layer\\nmodel.add(Dense(1))\\n# Add the output layer\\n#model.add(Dense(1, activation='softmax')) \\n\\n''' # compile the model      '''\\n\\n# Compile the model with Levenberg-Marquardt optimizer\\noptimizer = RMSprop(learning_rate=0.001, rho=0.001,)\\nmodel.compile(loss='mean_squared_error', optimizer=optimizer)\\n\\n''' train the model & save current compiled model  '''\\n# Train the model\\n#model.fit(X, y, epochs=100, batch_size=32, validation_split=0.2)\\nmodel.fit(X_train, y, epochs=500, batch_size=16) \\n# Save the model\\nmodel.save('all_hadrons_4in_test-19-5-2023-8L-500E-16B.h5')\\n\\n\\n \""
      ]
     },
     "execution_count": 156,
     "metadata": {},
     "output_type": "execute_result"
    }
   ],
   "source": [
    "\"\"\" \n",
    "''' Define the model '''\n",
    "# Define the model\n",
    "modelName = 'all-hadron-4in.h5'\n",
    "model = Sequential(name=modelName)\n",
    "# Add the first dense layer\n",
    "model.add(Dense(40, input_dim=4, activation='relu'))\n",
    "\n",
    "# Add batch normalization\n",
    "#model.add(BatchNormalization())\n",
    "model.add(Dense(40, activation='relu'))\n",
    "#model.add(BatchNormalization())\n",
    "model.add(Dense(80, activation='relu'))\n",
    "model.add(Dense(80, activation='relu'))\n",
    "model.add(Dense(40, activation='relu'))\n",
    "model.add(Dense(40, activation='relu'))\n",
    "\n",
    "# Add the output layer\n",
    "model.add(Dense(1))\n",
    "# Add the output layer\n",
    "#model.add(Dense(1, activation='softmax')) \n",
    "\n",
    "''' # compile the model      '''\n",
    "\n",
    "# Compile the model with Levenberg-Marquardt optimizer\n",
    "optimizer = RMSprop(learning_rate=0.001, rho=0.001,)\n",
    "model.compile(loss='mean_squared_error', optimizer=optimizer)\n",
    "\n",
    "''' train the model & save current compiled model  '''\n",
    "# Train the model\n",
    "#model.fit(X, y, epochs=100, batch_size=32, validation_split=0.2)\n",
    "model.fit(X_train, y, epochs=500, batch_size=16) \n",
    "# Save the model\n",
    "model.save('all_hadrons_4in_test-19-5-2023-8L-500E-16B.h5')\n",
    "\n",
    "\n",
    " \"\"\""
   ]
  },
  {
   "attachments": {},
   "cell_type": "markdown",
   "metadata": {},
   "source": [
    "# Evaluate the model and make prediction "
   ]
  },
  {
   "cell_type": "code",
   "execution_count": 157,
   "metadata": {},
   "outputs": [
    {
     "name": "stdout",
     "output_type": "stream",
     "text": [
      "new_data is : \n",
      "[[-0.4433542  -0.76774194  1.22162162 -0.59375   ]\n",
      " [-0.4433542  -0.76774194  1.22162162 -0.53125   ]\n",
      " [-0.4433542  -0.76774194  1.22162162 -0.46875   ]\n",
      " ...\n",
      " [ 0.5566458   1.2516129  -0.52432432  1.25      ]\n",
      " [ 0.5566458   1.2516129  -0.52432432  1.375     ]\n",
      " [ 0.5566458   1.2516129  -0.52432432  1.5       ]]\n",
      "206/206 [==============================] - 0s 598us/step\n",
      "predictions is : \n",
      "      predictions\n",
      "0      114.209694\n",
      "1       88.663719\n",
      "2       65.538467\n",
      "3       50.508316\n",
      "4       39.314369\n",
      "...           ...\n",
      "6559    -0.017051\n",
      "6560    -0.002979\n",
      "6561     0.015945\n",
      "6562     0.016869\n",
      "6563     0.006154\n",
      "\n",
      "[6564 rows x 1 columns]\n",
      "206/206 [==============================] - 0s 640us/step - loss: 5.1511\n",
      "score  5.151149749755859\n",
      "5.151149749755859\n",
      "mse 5.151149428964741\n"
     ]
    }
   ],
   "source": [
    "from sklearn.metrics import mean_squared_error\n",
    "\n",
    "# Make predictions on new data\n",
    "X_test = scaler.transform(X)\n",
    "print(\"new_data is : \")\n",
    "print(X_test)\n",
    "predictions = model.predict(X_test)\n",
    "predictions = predictions.flatten()\n",
    "predictions = pd.Series(predictions)\n",
    "predictions = predictions.to_frame('predictions')\n",
    "print(\"predictions is : \")\n",
    "print(predictions)\n",
    "\n",
    "# Evaluate the model\n",
    "score = model.evaluate(X_test, y)\n",
    "print(\"score \" , score)\n",
    "print(score)\n",
    "mse = mean_squared_error(y,predictions)\n",
    "print('mse' , mse)\n",
    "\n",
    "#print(\"accuracy\")\n",
    "#print(accuracy)"
   ]
  },
  {
   "attachments": {},
   "cell_type": "markdown",
   "metadata": {},
   "source": [
    "# draw "
   ]
  },
  {
   "cell_type": "code",
   "execution_count": 161,
   "metadata": {},
   "outputs": [
    {
     "name": "stdout",
     "output_type": "stream",
     "text": [
      "shape of data (6564, 7)\n",
      "shape of pred (6564, 1)\n",
      "shape of datap (6564, 8)\n",
      "shape of xap (6564, 8)\n",
      "shape of xapf (52, 8)\n"
     ]
    },
    {
     "data": {
      "image/png": "[encoded data removed]",
      "text/plain": [
       "<Figure size 640x480 with 1 Axes>"
      ]
     },
     "metadata": {},
     "output_type": "display_data"
    },
    {
     "data": {
      "text/plain": [
       "<Figure size 640x480 with 0 Axes>"
      ]
     },
     "metadata": {},
     "output_type": "display_data"
    }
   ],
   "source": [
    "# for drawing in 2d i choose Pt as x-axis\n",
    "error = data['Spectrum'] - predictions['predictions']\n",
    "error = error.to_frame('error')\n",
    "print('shape of data' , data.shape)\n",
    "print('shape of pred' , predictions.shape)\n",
    "datap = pd.concat([data,predictions],axis=1)\n",
    "print('shape of datap',datap.shape)\n",
    "\n",
    "# xap : data\n",
    "xap = pd.DataFrame(datap)\n",
    "# xapf : xap after filteration\n",
    "xapf= pd.DataFrame(datap)\n",
    "xapf = xapf[xapf['s']==7.7]\n",
    "xapf = xapf[xapf['N part']==337]\n",
    "xapf = xapf[xapf['mass']==139.57]\n",
    "print('shape of xap',xap.shape)\n",
    "print('shape of xapf',xapf.shape)\n",
    "\n",
    "# Plot the data and predictions\n",
    "\n",
    "#plt.semilogy(xapf['Pt'], xapf['Spectrum']   ,'bo', label='Actual')\n",
    "#plt.semilogy(xapf['Pt'], xapf['predictions'],'ro', label='Predicted')\n",
    "\"\"\" plt.scatter(xapf['Pt'], xapf['Spectrum'])\n",
    "plt.scatter(xapf['Pt'], xapf['predictions'])\n",
    "plt.xlabel('Pt')\n",
    "plt.ylabel('Output')\n",
    "plt.legend(['Ac'])\n",
    "plt.show()\n",
    "plt.savefig(nameFigImg) \"\"\"\n",
    "\n",
    "plt.scatter(xapf['Pt'], xapf['Spectrum'])\n",
    "plt.scatter(xapf['Pt'], xapf['predictions'])\n",
    "plt.xlabel('Pt')\n",
    "plt.ylabel('Output')\n",
    "plt.legend(['Actual Spectrum', 'Predicted Spectrum'])\n",
    "plt.show()\n",
    "plt.savefig(nameFigImg)"
   ]
  },
  {
   "attachments": {},
   "cell_type": "markdown",
   "metadata": {},
   "source": [
    "# write output to excel "
   ]
  },
  {
   "cell_type": "code",
   "execution_count": 159,
   "metadata": {},
   "outputs": [
    {
     "name": "stdout",
     "output_type": "stream",
     "text": [
      "     mass    s  N part     Pt  Spectrum     err1     err2  predictions\n",
      "0  139.57  7.7     337  0.275  114.8980  0.21538  7.89015   114.209694\n",
      "1  139.57  7.7     337  0.325   83.9507  0.17051  5.61535    88.663719\n",
      "2  139.57  7.7     337  0.375   62.4481  0.13799  4.10800    65.538467\n",
      "3  139.57  7.7     337  0.425   46.3708  0.11247  3.01883    50.508316\n",
      "4  139.57  7.7     337  0.475   34.7823  0.09267  2.24990    39.314369\n",
      "5  139.57  7.7     337  0.525   26.3221  0.07704  1.69598    29.894819\n",
      "6  139.57  7.7     337  0.575   19.7093  0.06396  1.26704    22.027498\n",
      "7  139.57  7.7     337  0.625   15.0548  0.05379  0.96702    16.321291\n",
      "8  139.57  7.7     337  0.675   11.2735  0.04492  0.73605    13.490880\n",
      "9  139.57  7.7     337  0.725    8.7656  0.03832  0.56201    11.047376\n"
     ]
    },
    {
     "name": "stderr",
     "output_type": "stream",
     "text": [
      "d:\\Repos\\ReposEda\\DrSamahPrjs\\ANN\\ANN\\.venv\\lib\\site-packages\\openpyxl\\workbook\\child.py:99: UserWarning: Title is more than 31 characters. Some applications may not be able to read the file\n",
      "  warnings.warn(\"Title is more than 31 characters. Some applications may not be able to read the file\")\n"
     ]
    }
   ],
   "source": [
    "\n",
    "# Write predictions , data to Excel file\n",
    "outputpredicat = pd.DataFrame(datap)\n",
    "# output is data frame\n",
    "print(outputpredicat.head(10))\n",
    "# Write the DataFrames to an Excel file with three sheets\n",
    "with pd.ExcelWriter(outputFile) as writer:\n",
    "    outputpredicat.to_excel(writer, sheet_name=outputSheetName, index=False)\n",
    "    #output.to_excel(writer, sheet_name='output', index=False)\n"
   ]
  },
  {
   "attachments": {},
   "cell_type": "markdown",
   "metadata": {},
   "source": [
    "# print model summery "
   ]
  },
  {
   "cell_type": "code",
   "execution_count": 160,
   "metadata": {},
   "outputs": [
    {
     "name": "stdout",
     "output_type": "stream",
     "text": [
      "End\n",
      "score 5.151149749755859\n",
      "Model: \"sequential_6\"\n",
      "_________________________________________________________________\n",
      " Layer (type)                Output Shape              Param #   \n",
      "=================================================================\n",
      " dense_38 (Dense)            (None, 40)                200       \n",
      "                                                                 \n",
      " dense_39 (Dense)            (None, 40)                1640      \n",
      "                                                                 \n",
      " dense_40 (Dense)            (None, 80)                3280      \n",
      "                                                                 \n",
      " dense_41 (Dense)            (None, 80)                6480      \n",
      "                                                                 \n",
      " dense_42 (Dense)            (None, 40)                3240      \n",
      "                                                                 \n",
      " dense_43 (Dense)            (None, 40)                1640      \n",
      "                                                                 \n",
      " dense_44 (Dense)            (None, 1)                 41        \n",
      "                                                                 \n",
      "=================================================================\n",
      "Total params: 16521 (64.54 KB)\n",
      "Trainable params: 16521 (64.54 KB)\n",
      "Non-trainable params: 0 (0.00 Byte)\n",
      "_________________________________________________________________\n",
      "None\n"
     ]
    }
   ],
   "source": [
    "\n",
    "print(\"End\")\n",
    "#print(\"accuracy :\" + str(accuracy))\n",
    "print(\"score \" + str(score))\n",
    "print(model.summary())"
   ]
  }
 ],
 "metadata": {
  "kernelspec": {
   "display_name": ".venv",
   "language": "python",
   "name": "python3"
  },
  "language_info": {
   "codemirror_mode": {
    "name": "ipython",
    "version": 3
   },
   "file_extension": ".py",
   "mimetype": "text/x-python",
   "name": "python",
   "nbconvert_exporter": "python",
   "pygments_lexer": "ipython3",
   "version": "3.10.6"
  },
  "orig_nbformat": 4
 },
 "nbformat": 4,
 "nbformat_minor": 2
}
